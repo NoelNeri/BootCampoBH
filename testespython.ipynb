{
  "nbformat": 4,
  "nbformat_minor": 0,
  "metadata": {
    "colab": {
      "provenance": [],
      "authorship_tag": "ABX9TyPKO6AeFfuoD0mSFNF1M/jU",
      "include_colab_link": true
    },
    "kernelspec": {
      "name": "python3",
      "display_name": "Python 3"
    },
    "language_info": {
      "name": "python"
    }
  },
  "cells": [
    {
      "cell_type": "markdown",
      "metadata": {
        "id": "view-in-github",
        "colab_type": "text"
      },
      "source": [
        "<a href=\"https://colab.research.google.com/github/NoelNeri/BootCampoBH/blob/main/testespython.ipynb\" target=\"_parent\"><img src=\"https://colab.research.google.com/assets/colab-badge.svg\" alt=\"Open In Colab\"/></a>"
      ]
    },
    {
      "cell_type": "code",
      "execution_count": 1,
      "metadata": {
        "colab": {
          "base_uri": "https://localhost:8080/"
        },
        "id": "_gvDZtZPqywz",
        "outputId": "30b67152-e4eb-4923-9e8f-ce24d9d1b70f"
      },
      "outputs": [
        {
          "output_type": "stream",
          "name": "stdout",
          "text": [
            "Olá mundo! Para dar Sorte!\n"
          ]
        }
      ],
      "source": [
        "print(\"Olá mundo! Para dar Sorte!\")"
      ]
    },
    {
      "cell_type": "code",
      "source": [
        "\"Teste\""
      ],
      "metadata": {
        "colab": {
          "base_uri": "https://localhost:8080/",
          "height": 36
        },
        "id": "0ECRCny-rifE",
        "outputId": "9767a6ad-70d6-4ca6-e13b-d62972301909"
      },
      "execution_count": 3,
      "outputs": [
        {
          "output_type": "execute_result",
          "data": {
            "text/plain": [
              "'Teste'"
            ],
            "application/vnd.google.colaboratory.intrinsic+json": {
              "type": "string"
            }
          },
          "metadata": {},
          "execution_count": 3
        }
      ]
    },
    {
      "cell_type": "code",
      "source": [
        "# testes com variáveis\n",
        "a = 10\n",
        "b = 53\n",
        "c = \"Noel\"\n",
        "D = \"será que muda?\""
      ],
      "metadata": {
        "id": "jFBWnpFdrm-e"
      },
      "execution_count": 4,
      "outputs": []
    },
    {
      "cell_type": "code",
      "source": [
        "a"
      ],
      "metadata": {
        "colab": {
          "base_uri": "https://localhost:8080/"
        },
        "id": "9JevuU8pssD2",
        "outputId": "66aa32be-1c14-476c-fa39-cbf59eb9cc00"
      },
      "execution_count": 5,
      "outputs": [
        {
          "output_type": "execute_result",
          "data": {
            "text/plain": [
              "10"
            ]
          },
          "metadata": {},
          "execution_count": 5
        }
      ]
    },
    {
      "cell_type": "code",
      "source": [
        "D"
      ],
      "metadata": {
        "colab": {
          "base_uri": "https://localhost:8080/",
          "height": 36
        },
        "id": "rx4bFed3stn9",
        "outputId": "0e5d9d7f-f912-4bb3-8012-d2f9cad285be"
      },
      "execution_count": 7,
      "outputs": [
        {
          "output_type": "execute_result",
          "data": {
            "text/plain": [
              "'será que muda?'"
            ],
            "application/vnd.google.colaboratory.intrinsic+json": {
              "type": "string"
            }
          },
          "metadata": {},
          "execution_count": 7
        }
      ]
    },
    {
      "cell_type": "code",
      "source": [
        "D = a + b"
      ],
      "metadata": {
        "id": "_r-8JUkVsu_c"
      },
      "execution_count": 8,
      "outputs": []
    },
    {
      "cell_type": "code",
      "source": [
        "D"
      ],
      "metadata": {
        "colab": {
          "base_uri": "https://localhost:8080/"
        },
        "id": "73wl8Fogs4iq",
        "outputId": "cf2d61fd-2124-4867-f10f-06f65ff1322c"
      },
      "execution_count": 9,
      "outputs": [
        {
          "output_type": "execute_result",
          "data": {
            "text/plain": [
              "63"
            ]
          },
          "metadata": {},
          "execution_count": 9
        }
      ]
    },
    {
      "cell_type": "code",
      "source": [
        "c"
      ],
      "metadata": {
        "colab": {
          "base_uri": "https://localhost:8080/",
          "height": 36
        },
        "id": "r3hou_dHs6LF",
        "outputId": "c4987230-3f2f-4be0-cab1-2bf1060e122a"
      },
      "execution_count": 10,
      "outputs": [
        {
          "output_type": "execute_result",
          "data": {
            "text/plain": [
              "'Noel'"
            ],
            "application/vnd.google.colaboratory.intrinsic+json": {
              "type": "string"
            }
          },
          "metadata": {},
          "execution_count": 10
        }
      ]
    },
    {
      "cell_type": "code",
      "source": [
        "qwe = \"Fazendo uma fraze para trabalhar com textos\"\n",
        "print(qwe)\n",
        "print(qwe[10])\n",
        "print(qwe[:10])\n",
        "print(qwe[11:20])\n",
        "print(qwe[20:])\n",
        "print(qwe.upper)\n",
        "print(qwe.lower)\n",
        "print(qwe.count(\"a\"))\n",
        "print(qwe.replace(\"a\", \"x\"))"
      ],
      "metadata": {
        "colab": {
          "base_uri": "https://localhost:8080/"
        },
        "id": "8P9eszqWs9at",
        "outputId": "27372a9c-c2b5-4f28-8193-07b6fb0af340"
      },
      "execution_count": 17,
      "outputs": [
        {
          "output_type": "stream",
          "name": "stdout",
          "text": [
            "Fazendo uma fraze para trabalhar com textos\n",
            "a\n",
            "Fazendo um\n",
            " fraze pa\n",
            "ra trabalhar com textos\n",
            "<built-in method upper of str object at 0x7fb10d2bdc30>\n",
            "<built-in method lower of str object at 0x7fb10d2bdc30>\n",
            "8\n",
            "Fxzendo umx frxze pxrx trxbxlhxr com textos\n"
          ]
        }
      ]
    },
    {
      "cell_type": "code",
      "source": [
        "qwe.apend[\"e acrescentando\"]"
      ],
      "metadata": {
        "colab": {
          "base_uri": "https://localhost:8080/",
          "height": 165
        },
        "id": "ODUFC-rGvKaw",
        "outputId": "7ba5ccdf-50e5-4981-8525-5975b5a34d93"
      },
      "execution_count": 18,
      "outputs": [
        {
          "output_type": "error",
          "ename": "AttributeError",
          "evalue": "ignored",
          "traceback": [
            "\u001b[0;31m---------------------------------------------------------------------------\u001b[0m",
            "\u001b[0;31mAttributeError\u001b[0m                            Traceback (most recent call last)",
            "\u001b[0;32m<ipython-input-18-439d54076a9f>\u001b[0m in \u001b[0;36m<module>\u001b[0;34m\u001b[0m\n\u001b[0;32m----> 1\u001b[0;31m \u001b[0mqwe\u001b[0m\u001b[0;34m.\u001b[0m\u001b[0mapend\u001b[0m\u001b[0;34m[\u001b[0m\u001b[0;34m\"e acrescentando\"\u001b[0m\u001b[0;34m]\u001b[0m\u001b[0;34m\u001b[0m\u001b[0;34m\u001b[0m\u001b[0m\n\u001b[0m",
            "\u001b[0;31mAttributeError\u001b[0m: 'str' object has no attribute 'apend'"
          ]
        }
      ]
    },
    {
      "cell_type": "code",
      "source": [
        "# trabalhando com listas, tuplas e dicionários\n",
        "animais = [1,2,3]\n",
        "animais"
      ],
      "metadata": {
        "colab": {
          "base_uri": "https://localhost:8080/"
        },
        "id": "QNiUKzZ70eDc",
        "outputId": "1146f1c2-fbc5-40aa-87fb-a4519a6d5c9b"
      },
      "execution_count": 19,
      "outputs": [
        {
          "output_type": "execute_result",
          "data": {
            "text/plain": [
              "[1, 2, 3]"
            ]
          },
          "metadata": {},
          "execution_count": 19
        }
      ]
    },
    {
      "cell_type": "code",
      "source": [
        "animais = [\"cachorro\", \"gato\", \"rato\", \"1234\", \"3.4\"]\n",
        "animais"
      ],
      "metadata": {
        "colab": {
          "base_uri": "https://localhost:8080/"
        },
        "id": "q3Rj4o-B073o",
        "outputId": "fb77bcfe-0ae1-4c56-e6ee-9169b4a3aead"
      },
      "execution_count": 21,
      "outputs": [
        {
          "output_type": "execute_result",
          "data": {
            "text/plain": [
              "['cachorro', 'gato', 'rato', '1234', '3.4']"
            ]
          },
          "metadata": {},
          "execution_count": 21
        }
      ]
    },
    {
      "cell_type": "code",
      "source": [
        "animais[0]"
      ],
      "metadata": {
        "colab": {
          "base_uri": "https://localhost:8080/",
          "height": 36
        },
        "id": "N6R6iSm11K05",
        "outputId": "54c0be9d-f69e-4a89-f672-9598fddd69c8"
      },
      "execution_count": 30,
      "outputs": [
        {
          "output_type": "execute_result",
          "data": {
            "text/plain": [
              "'cachorro'"
            ],
            "application/vnd.google.colaboratory.intrinsic+json": {
              "type": "string"
            }
          },
          "metadata": {},
          "execution_count": 30
        }
      ]
    },
    {
      "cell_type": "code",
      "source": [
        "animais.append(\"bola\")\n",
        "animais"
      ],
      "metadata": {
        "colab": {
          "base_uri": "https://localhost:8080/"
        },
        "id": "xljQhEOK3QG6",
        "outputId": "f4c5002a-c977-4146-84c9-49dcbfa8fa72"
      },
      "execution_count": 41,
      "outputs": [
        {
          "output_type": "execute_result",
          "data": {
            "text/plain": [
              "['cachorro', 'gato', 'rato', '1234', '3.4', 'bola', 'bola']"
            ]
          },
          "metadata": {},
          "execution_count": 41
        }
      ]
    },
    {
      "cell_type": "code",
      "source": [
        "animais"
      ],
      "metadata": {
        "colab": {
          "base_uri": "https://localhost:8080/"
        },
        "id": "vuAvwzXG4nUT",
        "outputId": "b6b02b41-9f25-4502-fff6-604b4231ad5a"
      },
      "execution_count": 43,
      "outputs": [
        {
          "output_type": "execute_result",
          "data": {
            "text/plain": [
              "['cachorro', 'gato', 'rato', '1234', '3.4', 'bola', 'bola']"
            ]
          },
          "metadata": {},
          "execution_count": 43
        }
      ]
    },
    {
      "cell_type": "code",
      "source": [
        "print(animais[len(animais)-1])\n",
        "len(animais)"
      ],
      "metadata": {
        "colab": {
          "base_uri": "https://localhost:8080/"
        },
        "id": "kkYN4tJ15IgA",
        "outputId": "e3cd3382-0b03-4610-cc3c-4fd7b9e61bc6"
      },
      "execution_count": 46,
      "outputs": [
        {
          "output_type": "stream",
          "name": "stdout",
          "text": [
            "bola\n"
          ]
        },
        {
          "output_type": "execute_result",
          "data": {
            "text/plain": [
              "7"
            ]
          },
          "metadata": {},
          "execution_count": 46
        }
      ]
    },
    {
      "cell_type": "code",
      "source": [
        "max(animais)\n",
        "min(animais)"
      ],
      "metadata": {
        "colab": {
          "base_uri": "https://localhost:8080/",
          "height": 36
        },
        "id": "TTfvbcLR4yQV",
        "outputId": "c15837a8-bdae-4c46-a752-4d87fec2aa87"
      },
      "execution_count": 48,
      "outputs": [
        {
          "output_type": "execute_result",
          "data": {
            "text/plain": [
              "'1234'"
            ],
            "application/vnd.google.colaboratory.intrinsic+json": {
              "type": "string"
            }
          },
          "metadata": {},
          "execution_count": 48
        }
      ]
    },
    {
      "cell_type": "code",
      "source": [
        "animais.extend([\"nego\", \"jade\"])\n",
        "animais\n",
        "animais.remove(\"bola\")\n",
        "animais.remove(\"nego\")\n",
        "animais.remove(\"jade\")\n",
        "animais"
      ],
      "metadata": {
        "colab": {
          "base_uri": "https://localhost:8080/"
        },
        "id": "VJ5ROIH86pQY",
        "outputId": "813475aa-56e1-4fe8-8a77-874307fa2314"
      },
      "execution_count": 55,
      "outputs": [
        {
          "output_type": "execute_result",
          "data": {
            "text/plain": [
              "['cachorro',\n",
              " 'gato',\n",
              " 'rato',\n",
              " '1234',\n",
              " '3.4',\n",
              " 'nego',\n",
              " 'jade',\n",
              " 'nego',\n",
              " 'jade',\n",
              " 'nego',\n",
              " 'jade',\n",
              " 'nego',\n",
              " 'jade',\n",
              " 'nego',\n",
              " 'jade']"
            ]
          },
          "metadata": {},
          "execution_count": 55
        }
      ]
    },
    {
      "cell_type": "code",
      "source": [
        "animais.append(\"nego\")\n",
        "animais"
      ],
      "metadata": {
        "colab": {
          "base_uri": "https://localhost:8080/"
        },
        "id": "3EPaG-Ee7_oy",
        "outputId": "e6a80f2c-ecab-4d8e-f128-7c34e8dc5c62"
      },
      "execution_count": 61,
      "outputs": [
        {
          "output_type": "execute_result",
          "data": {
            "text/plain": [
              "['cachorro',\n",
              " 'gato',\n",
              " 'rato',\n",
              " '1234',\n",
              " '3.4',\n",
              " 'nego',\n",
              " 'nego',\n",
              " 'nego',\n",
              " 'nego',\n",
              " 'nego']"
            ]
          },
          "metadata": {},
          "execution_count": 61
        }
      ]
    },
    {
      "cell_type": "code",
      "source": [
        "animais.count(\"nego\")"
      ],
      "metadata": {
        "colab": {
          "base_uri": "https://localhost:8080/"
        },
        "id": "nWNnrpFf8uRD",
        "outputId": "460ea7ff-a85a-463a-d287-29105aec6f5d"
      },
      "execution_count": 62,
      "outputs": [
        {
          "output_type": "execute_result",
          "data": {
            "text/plain": [
              "5"
            ]
          },
          "metadata": {},
          "execution_count": 62
        }
      ]
    },
    {
      "cell_type": "code",
      "source": [
        "animais.append([\"calabreza\",\"mussarela\",\"quatro queijos\"])\n",
        "len(animais)"
      ],
      "metadata": {
        "colab": {
          "base_uri": "https://localhost:8080/"
        },
        "id": "sXtXMoVq860r",
        "outputId": "766cd516-c86a-4703-9133-ef97d0b70e8a"
      },
      "execution_count": 64,
      "outputs": [
        {
          "output_type": "execute_result",
          "data": {
            "text/plain": [
              "12"
            ]
          },
          "metadata": {},
          "execution_count": 64
        }
      ]
    },
    {
      "cell_type": "code",
      "source": [
        "animais"
      ],
      "metadata": {
        "colab": {
          "base_uri": "https://localhost:8080/"
        },
        "id": "NkMwvKbB9aMo",
        "outputId": "8b8a9974-ef1d-476d-eea0-41191ae68d23"
      },
      "execution_count": 77,
      "outputs": [
        {
          "output_type": "execute_result",
          "data": {
            "text/plain": [
              "['cachorro',\n",
              " 'gato',\n",
              " 'rato',\n",
              " '1234',\n",
              " '3.4',\n",
              " 'nego',\n",
              " 'nego',\n",
              " 'nego',\n",
              " 'nego',\n",
              " 'nego',\n",
              " ['calabreza', 'mussarela', 'quatro queijos'],\n",
              " ['calabreza', 'mussarela', 'quatro queijos']]"
            ]
          },
          "metadata": {},
          "execution_count": 77
        }
      ]
    },
    {
      "cell_type": "code",
      "source": [
        "#Criando tuplas, que são listas de constantes\n",
        "tupla = (\"mira\",\"nego\",\"jade\",\"eu\")\n",
        "tupla[3]"
      ],
      "metadata": {
        "colab": {
          "base_uri": "https://localhost:8080/",
          "height": 36
        },
        "id": "HNzUAZ8ZBsmC",
        "outputId": "79da4635-9199-4bb2-9e97-8d69f879c55f"
      },
      "execution_count": 80,
      "outputs": [
        {
          "output_type": "execute_result",
          "data": {
            "text/plain": [
              "'eu'"
            ],
            "application/vnd.google.colaboratory.intrinsic+json": {
              "type": "string"
            }
          },
          "metadata": {},
          "execution_count": 80
        }
      ]
    },
    {
      "cell_type": "code",
      "source": [
        "tupla[3] = \"Noel\""
      ],
      "metadata": {
        "colab": {
          "base_uri": "https://localhost:8080/",
          "height": 165
        },
        "id": "N_BQojBICC14",
        "outputId": "f1db6251-006d-4ca8-c63a-7f1c14951cb3"
      },
      "execution_count": 81,
      "outputs": [
        {
          "output_type": "error",
          "ename": "TypeError",
          "evalue": "ignored",
          "traceback": [
            "\u001b[0;31m---------------------------------------------------------------------------\u001b[0m",
            "\u001b[0;31mTypeError\u001b[0m                                 Traceback (most recent call last)",
            "\u001b[0;32m<ipython-input-81-c940d0a1e0cc>\u001b[0m in \u001b[0;36m<module>\u001b[0;34m\u001b[0m\n\u001b[0;32m----> 1\u001b[0;31m \u001b[0mtupla\u001b[0m\u001b[0;34m[\u001b[0m\u001b[0;36m3\u001b[0m\u001b[0;34m]\u001b[0m \u001b[0;34m=\u001b[0m \u001b[0;34m\"Noel\"\u001b[0m\u001b[0;34m\u001b[0m\u001b[0;34m\u001b[0m\u001b[0m\n\u001b[0m",
            "\u001b[0;31mTypeError\u001b[0m: 'tuple' object does not support item assignment"
          ]
        }
      ]
    },
    {
      "cell_type": "code",
      "source": [
        "#Criando e tratando dicionário\n",
        "sacolaFrutas = {\"banana\":23,\"maça\":14,\"uva\":450,\"frutas\":\"banana, maça e uva\",\"texto\":\"eh vidão!\"}\n",
        "sacolaFrutas"
      ],
      "metadata": {
        "colab": {
          "base_uri": "https://localhost:8080/"
        },
        "id": "T2U7u0vtCtrV",
        "outputId": "c05c07d7-bf90-4ba1-8e35-c163f2e4e29c"
      },
      "execution_count": 82,
      "outputs": [
        {
          "output_type": "execute_result",
          "data": {
            "text/plain": [
              "{'banana': 23,\n",
              " 'maça': 14,\n",
              " 'uva': 450,\n",
              " 'frutas': 'banana, maça e uva',\n",
              " 'texto': 'eh vidão!'}"
            ]
          },
          "metadata": {},
          "execution_count": 82
        }
      ]
    },
    {
      "cell_type": "code",
      "source": [
        "frase = sacolaFrutas[\"texto\"] + \"caba não, mundão!\"\n",
        "frase"
      ],
      "metadata": {
        "colab": {
          "base_uri": "https://localhost:8080/",
          "height": 36
        },
        "id": "gpd1Ezn1DqBa",
        "outputId": "ea477aa1-50a4-4e82-f394-5f54e67e5e10"
      },
      "execution_count": 83,
      "outputs": [
        {
          "output_type": "execute_result",
          "data": {
            "text/plain": [
              "'eh vidão!caba não, mundão!'"
            ],
            "application/vnd.google.colaboratory.intrinsic+json": {
              "type": "string"
            }
          },
          "metadata": {},
          "execution_count": 83
        }
      ]
    },
    {
      "cell_type": "code",
      "source": [
        "sacolaFrutas.keys()"
      ],
      "metadata": {
        "colab": {
          "base_uri": "https://localhost:8080/"
        },
        "id": "7wh9ZW0vD84v",
        "outputId": "3a8a4490-7a35-494a-e204-34a3b9797a2d"
      },
      "execution_count": 86,
      "outputs": [
        {
          "output_type": "execute_result",
          "data": {
            "text/plain": [
              "dict_keys(['banana', 'maça', 'uva', 'frutas', 'texto'])"
            ]
          },
          "metadata": {},
          "execution_count": 86
        }
      ]
    },
    {
      "cell_type": "code",
      "source": [
        "sacolaFrutas.values()"
      ],
      "metadata": {
        "colab": {
          "base_uri": "https://localhost:8080/"
        },
        "id": "A6Abic6KEfEk",
        "outputId": "fb3d61af-4e9f-45f9-be55-5749daee89cc"
      },
      "execution_count": 88,
      "outputs": [
        {
          "output_type": "execute_result",
          "data": {
            "text/plain": [
              "dict_values([23, 14, 450, 'banana, maça e uva', 'eh vidão!'])"
            ]
          },
          "metadata": {},
          "execution_count": 88
        }
      ]
    },
    {
      "cell_type": "code",
      "source": [
        "sacolaFrutas.setdefault(\"jabuticada\", 34)\n",
        "sacolaFrutas"
      ],
      "metadata": {
        "colab": {
          "base_uri": "https://localhost:8080/"
        },
        "id": "McRrZS1wE1aR",
        "outputId": "5cef21f4-e475-41f1-9be9-cbc47e5a5d6f"
      },
      "execution_count": 92,
      "outputs": [
        {
          "output_type": "execute_result",
          "data": {
            "text/plain": [
              "{'banana': 23,\n",
              " 'maça': 14,\n",
              " 'uva': 450,\n",
              " 'frutas': 'banana, maça e uva',\n",
              " 'texto': 'eh vidão!',\n",
              " 'jabuticada': 34}"
            ]
          },
          "metadata": {},
          "execution_count": 92
        }
      ]
    },
    {
      "cell_type": "markdown",
      "source": [],
      "metadata": {
        "id": "oVA8I82k7-RP"
      }
    }
  ]
}